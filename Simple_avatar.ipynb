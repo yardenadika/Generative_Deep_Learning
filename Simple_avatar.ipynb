{
  "nbformat": 4,
  "nbformat_minor": 5,
  "metadata": {
    "kernelspec": {
      "display_name": "Python 3",
      "language": "python",
      "name": "python3"
    },
    "language_info": {
      "codemirror_mode": {
        "name": "ipython",
        "version": 3
      },
      "file_extension": ".py",
      "mimetype": "text/x-python",
      "name": "python",
      "nbconvert_exporter": "python",
      "pygments_lexer": "ipython3",
      "version": "3.7.3"
    },
    "colab": {
      "name": "Simple_avatar.ipynb",
      "provenance": [],
      "include_colab_link": true
    }
  },
  "cells": [
    {
      "cell_type": "markdown",
      "metadata": {
        "id": "view-in-github",
        "colab_type": "text"
      },
      "source": [
        "<a href=\"https://colab.research.google.com/github/yardenadika/Generative_Deep_Learning/blob/main/Simple_avatar.ipynb\" target=\"_parent\"><img src=\"https://colab.research.google.com/assets/colab-badge.svg\" alt=\"Open In Colab\"/></a>"
      ]
    },
    {
      "cell_type": "code",
      "metadata": {
        "id": "HdrDkYI_4fiX"
      },
      "source": [
        "import sys\n",
        "import numpy as np\n",
        "from matplotlib import pyplot as plt"
      ],
      "id": "HdrDkYI_4fiX",
      "execution_count": 1,
      "outputs": []
    },
    {
      "cell_type": "code",
      "metadata": {
        "id": "Fx-OAHgc4fia"
      },
      "source": [
        "def hex2rgb(value):\n",
        "    value = value.lstrip('#')\n",
        "    lv = len(value)\n",
        "    return tuple(int(value[i:i + lv // 3], 16) for i in range(0, lv, lv // 3))\n",
        "\n",
        "\n",
        "def rgb2hex(rgb):\n",
        "    return '#%02x%02x%02x' % rgb"
      ],
      "id": "Fx-OAHgc4fia",
      "execution_count": 2,
      "outputs": []
    },
    {
      "cell_type": "code",
      "metadata": {
        "id": "CuDIHv2N4fic"
      },
      "source": [
        "cmaps = [\n",
        "    \"#000000\",\n",
        "    '#FF0000',\n",
        "    \"#00FF00\",\n",
        "    \"#0CAFEB\",\n",
        "    \"#F5D718\",\n",
        "    \"#EB63E2\",\n",
        "    \"#A1FF4A\",\n",
        "    \"#EEEEEE\"\n",
        "]\n"
      ],
      "id": "CuDIHv2N4fic",
      "execution_count": 3,
      "outputs": []
    },
    {
      "cell_type": "code",
      "metadata": {
        "id": "D8Y2dJCz4fic",
        "colab": {
          "base_uri": "https://localhost:8080/",
          "height": 283
        },
        "outputId": "92357fff-4669-4d87-8b33-f1d7e347cac2"
      },
      "source": [
        "im0=[]\n",
        "for i in cmaps:\n",
        "  im0.append(hex2rgb(i))\n",
        "im0=np.repeat(np.expand_dims(im0, axis=0), repeats=8, axis=0)  \n",
        "plt.imshow(im0)"
      ],
      "id": "D8Y2dJCz4fic",
      "execution_count": 4,
      "outputs": [
        {
          "output_type": "execute_result",
          "data": {
            "text/plain": [
              "<matplotlib.image.AxesImage at 0x7fa0e95e89d0>"
            ]
          },
          "metadata": {},
          "execution_count": 4
        },
        {
          "output_type": "display_data",
          "data": {
            "image/png": "[encoded data removed]",
            "text/plain": [
              "<Figure size 432x288 with 1 Axes>"
            ]
          },
          "metadata": {
            "needs_background": "light"
          }
        }
      ]
    },
    {
      "cell_type": "code",
      "metadata": {
        "id": "fpCvzk_94fie",
        "colab": {
          "base_uri": "https://localhost:8080/"
        },
        "outputId": "67a2b591-667f-47f0-d1f2-032c7aa48922"
      },
      "source": [
        "pvals=[5,5,10,20,5,5,5,5]\n",
        "pvals=np.asarray(pvals)/float(sum(pvals))\n",
        "n=len(cmaps)\n",
        "\n",
        "colors=np.empty([8, 8])\n",
        "for j in range(8):\n",
        "    \n",
        "    colors[j]=np.random.multinomial(n, pvals, size=None)\n",
        "print(colors)"
      ],
      "id": "fpCvzk_94fie",
      "execution_count": 5,
      "outputs": [
        {
          "output_type": "stream",
          "name": "stdout",
          "text": [
            "[[0. 0. 2. 3. 2. 1. 0. 0.]\n",
            " [0. 0. 2. 2. 3. 1. 0. 0.]\n",
            " [1. 0. 1. 4. 1. 0. 0. 1.]\n",
            " [1. 0. 2. 1. 2. 1. 1. 0.]\n",
            " [1. 0. 3. 2. 0. 1. 1. 0.]\n",
            " [1. 1. 2. 2. 1. 0. 1. 0.]\n",
            " [0. 1. 2. 3. 1. 0. 1. 0.]\n",
            " [1. 0. 2. 3. 0. 0. 2. 0.]]\n"
          ]
        }
      ]
    },
    {
      "cell_type": "code",
      "metadata": {
        "id": "vLx-VN614fie"
      },
      "source": [
        "#plt.imshow(colors)"
      ],
      "id": "vLx-VN614fie",
      "execution_count": 6,
      "outputs": []
    },
    {
      "cell_type": "code",
      "metadata": {
        "id": "TSsvo_3p4fif"
      },
      "source": [
        "#plt.imshow(10-colors)"
      ],
      "id": "TSsvo_3p4fif",
      "execution_count": 7,
      "outputs": []
    },
    {
      "cell_type": "code",
      "metadata": {
        "id": "AR5OIdMY4fig",
        "colab": {
          "base_uri": "https://localhost:8080/"
        },
        "outputId": "293eddfc-513b-444f-f149-4aff64503cae"
      },
      "source": [
        "pal=[]\n",
        "for i in colors:\n",
        " ind=0\n",
        " for j in i:\n",
        "   for t in range(int(j)):\n",
        "     pal.append(hex2rgb(cmaps[int(ind)]))\n",
        "   ind+=1\n",
        "im=np.asarray(pal).reshape(8,8,3)\n",
        "print(pal)"
      ],
      "id": "AR5OIdMY4fig",
      "execution_count": 8,
      "outputs": [
        {
          "output_type": "stream",
          "name": "stdout",
          "text": [
            "[(0, 255, 0), (0, 255, 0), (12, 175, 235), (12, 175, 235), (12, 175, 235), (245, 215, 24), (245, 215, 24), (235, 99, 226), (0, 255, 0), (0, 255, 0), (12, 175, 235), (12, 175, 235), (245, 215, 24), (245, 215, 24), (245, 215, 24), (235, 99, 226), (0, 0, 0), (0, 255, 0), (12, 175, 235), (12, 175, 235), (12, 175, 235), (12, 175, 235), (245, 215, 24), (238, 238, 238), (0, 0, 0), (0, 255, 0), (0, 255, 0), (12, 175, 235), (245, 215, 24), (245, 215, 24), (235, 99, 226), (161, 255, 74), (0, 0, 0), (0, 255, 0), (0, 255, 0), (0, 255, 0), (12, 175, 235), (12, 175, 235), (235, 99, 226), (161, 255, 74), (0, 0, 0), (255, 0, 0), (0, 255, 0), (0, 255, 0), (12, 175, 235), (12, 175, 235), (245, 215, 24), (161, 255, 74), (255, 0, 0), (0, 255, 0), (0, 255, 0), (12, 175, 235), (12, 175, 235), (12, 175, 235), (245, 215, 24), (161, 255, 74), (0, 0, 0), (0, 255, 0), (0, 255, 0), (12, 175, 235), (12, 175, 235), (12, 175, 235), (161, 255, 74), (161, 255, 74)]\n"
          ]
        }
      ]
    },
    {
      "cell_type": "code",
      "metadata": {
        "id": "Ad9JGgLV4fih",
        "colab": {
          "base_uri": "https://localhost:8080/",
          "height": 283
        },
        "outputId": "6ff428d5-9472-4465-e047-f03210a0fdfd"
      },
      "source": [
        "#from matplotlib import pyplot as plt\n",
        "plt.imshow(im)\n"
      ],
      "id": "Ad9JGgLV4fih",
      "execution_count": 9,
      "outputs": [
        {
          "output_type": "execute_result",
          "data": {
            "text/plain": [
              "<matplotlib.image.AxesImage at 0x7fa0e2d4e6d0>"
            ]
          },
          "metadata": {},
          "execution_count": 9
        },
        {
          "output_type": "display_data",
          "data": {
            "image/png": "[encoded data removed]",
            "text/plain": [
              "<Figure size 432x288 with 1 Axes>"
            ]
          },
          "metadata": {
            "needs_background": "light"
          }
        }
      ]
    },
    {
      "cell_type": "code",
      "metadata": {
        "id": "-8hiI9mM4fii",
        "colab": {
          "base_uri": "https://localhost:8080/",
          "height": 283
        },
        "outputId": "d89bad70-23bb-4e88-9ecf-e92c6325a95d"
      },
      "source": [
        "import matplotlib.colors\n",
        "cmap = plt.cm.rainbow\n",
        "norm = matplotlib.colors.Normalize(vmin=1.5, vmax=4.5)\n",
        "fig, ax = plt.subplots()\n",
        "ax.imshow(im)"
      ],
      "id": "-8hiI9mM4fii",
      "execution_count": 10,
      "outputs": [
        {
          "output_type": "execute_result",
          "data": {
            "text/plain": [
              "<matplotlib.image.AxesImage at 0x7fa0e2d0e590>"
            ]
          },
          "metadata": {},
          "execution_count": 10
        },
        {
          "output_type": "display_data",
          "data": {
            "image/png": "[encoded data removed]",
            "text/plain": [
              "<Figure size 432x288 with 1 Axes>"
            ]
          },
          "metadata": {
            "needs_background": "light"
          }
        }
      ]
    }
  ]
}